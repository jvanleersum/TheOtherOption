{
 "cells": [
  {
   "cell_type": "code",
   "execution_count": 240,
   "id": "9d2f1466-e911-4847-8432-c6925422a70d",
   "metadata": {},
   "outputs": [],
   "source": [
    "import requests\n",
    "from bs4 import BeautifulSoup\n",
    "import pandas as pd\n",
    "import numpy as np\n",
    "import appiepy\n",
    "import json\n",
    "import csv\n",
    "import re"
   ]
  },
  {
   "cell_type": "code",
   "execution_count": 2,
   "id": "2dc2bb4b-baae-46a4-9347-0c3c6606168b",
   "metadata": {},
   "outputs": [],
   "source": [
    "base_url = \"https://www.ah.nl/producten/\"\n",
    "categories = [\"aardappel-groente-fruit\",\n",
    "              \"salades-pizza-maaltijden\",\n",
    "              \"vlees-kip-vis-vega\",\n",
    "              \"kaas-vleeswaren-tapas\",\n",
    "              \"zuivel-plantaardig-en-eieren\",\n",
    "              \"bakkerij-en-banket\",\n",
    "              \"ontbijtgranen-broodbeleg-tussendoor\",\n",
    "              \"frisdrank-sappen-koffie-thee\",\n",
    "              \"wijn-en-bubbels\",\n",
    "              \"bier-sterke-drank-aperitieven\",\n",
    "              \"pasta-rijst-en-wereldkeuken\",\n",
    "              \"soepen-sauzen-kruiden-olie\",\n",
    "              \"snoep-koek-chips-en-chocolade\",\n",
    "              \"diepvries\",\n",
    "              \"bewuste-voeding\"\n",
    "             ]"
   ]
  },
  {
   "cell_type": "code",
   "execution_count": null,
   "id": "5d81aacc-acac-4cfb-9a93-72898eece855",
   "metadata": {},
   "outputs": [],
   "source": [
    "category = categories[14]\n",
    "url_list = []\n",
    "for page in range(50):\n",
    "    url = f'{base_url}{category}?page={page+1}'\n",
    "    response = requests.get(url, allow_redirects=False)\n",
    "    if response.status_code == 200:\n",
    "        soup = BeautifulSoup(response.content, \"html.parser\")\n",
    "        products = soup.find_all(\"div\", class_=\"product-card-portrait_content__2xN-b\")\n",
    "        for product in products:\n",
    "            a = product.find(\"a\", href=True)\n",
    "            url_list.append(a['href'])\n",
    "    else:\n",
    "        break"
   ]
  },
  {
   "cell_type": "code",
   "execution_count": null,
   "id": "d068d0bd-ebfe-48fe-bce0-c3476f84be9d",
   "metadata": {},
   "outputs": [],
   "source": [
    "products = soup.find_all(\"div\", class_=\"product-card-portrait_content__2xN-b\")\n",
    "url_list = []\n",
    "for product in products:\n",
    "    a = product.find(\"a\", href=True)\n",
    "    url_list.append(a['href'])"
   ]
  },
  {
   "cell_type": "code",
   "execution_count": 3,
   "id": "1b27d627-7a34-461b-b8f2-e99d86921072",
   "metadata": {
    "tags": []
   },
   "outputs": [],
   "source": [
    "url_could_not_parse = ['/producten/product/wi477771/koopmans-schudfles-pannenkoek-proteine',\n",
    " '/producten/product/wi1516/ah-magere-melk',\n",
    " '/producten/product/wi209828/arla-lactofree-halfvolle-melk-lactosevrij',\n",
    " '/producten/product/wi212525/arla-lactofree-halfvolle-yoghurt-lactosevrij',\n",
    " '/producten/product/wi225290/melkunie-breaker-high-protein-vanille',\n",
    " '/producten/product/wi121227/alpro-sojadrink-original-fresh',\n",
    " '/producten/product/wi407970/alpro-plantaardige-variatie-op-kwark-naturel',\n",
    " '/producten/product/wi474966/arla-lactofree-volle-melk',\n",
    " '/producten/product/wi213334/arla-lactofree-halfvolle-melk-lactosevrij',\n",
    " '/producten/product/wi437124/arla-lactofree-magere-kwark-lactosevrij',\n",
    " '/producten/product/wi474367/snickers-crisp-melkchocolade-ijs-6-stuks',\n",
    " '/producten/product/wi3579/calve-pindakaas-pot',\n",
    " '/producten/product/wi225290/melkunie-breaker-high-protein-vanille',\n",
    " '/producten/product/wi32847/calve-pindakaas-met-stukjes-pinda',\n",
    " '/producten/product/wi220739/calve-pindakaas-pot',\n",
    " '/producten/product/wi220740/calve-pindakaas-met-stukjes-pinda',\n",
    " '/producten/product/wi150888/calve-pindakaas-light',\n",
    " '/producten/product/wi232946/calve-pindakaas-pot',\n",
    " '/producten/product/wi162236/weetabix-original',\n",
    " '/producten/product/wi379003/calve-pindakaas-met-stukjes-pinda',\n",
    " '/producten/product/wi196598/lindt-85-cacao',\n",
    " '/producten/product/wi196597/lindt-excellence-orange-intense',\n",
    " '/producten/product/wi196599/lindt-excellence-70-cacao',\n",
    " '/producten/product/wi232897/lindt-excellence-dark-supreme-noir-90',\n",
    " '/producten/product/wi367082/lindt-excellence-caramel-salee',\n",
    " '/producten/product/wi435744/lindt-excellence-78',\n",
    " '/producten/product/wi474367/snickers-crisp-melkchocolade-ijs-6-stuks',\n",
    " '/producten/product/wi209828/arla-lactofree-halfvolle-melk-lactosevrij',\n",
    " '/producten/product/wi212525/arla-lactofree-halfvolle-yoghurt-lactosevrij',\n",
    " '/producten/product/wi121227/alpro-sojadrink-original-fresh',\n",
    " '/producten/product/wi407970/alpro-plantaardige-variatie-op-kwark-naturel',\n",
    " '/producten/product/wi474966/arla-lactofree-volle-melk',\n",
    " '/producten/product/wi213334/arla-lactofree-halfvolle-melk-lactosevrij',\n",
    " '/producten/product/wi485140/weight-care-high-protein-shake-vanilla',\n",
    " '/producten/product/wi484997/weight-care-high-protein-shake-iced-coffee']"
   ]
  },
  {
   "cell_type": "code",
   "execution_count": 301,
   "id": "fa321674-f945-4662-bcdf-cac40d707061",
   "metadata": {},
   "outputs": [],
   "source": [
    "# Scrape info from unparsed urls\n",
    "url = base_url+'product/wi485140/weight-care-high-protein-shake-vanilla'\n",
    "response = requests.get(url)\n",
    "nutrients_dict={}\n",
    "if response.status_code == 200:\n",
    "    soup = BeautifulSoup(response.content, \"html.parser\")\n",
    "    allergy = soup.find_all(\"dd\", class_=\"product-info-definition-list_value__kspp6\")\n",
    "    description = soup.find(\"span\", class_=\"line-clamp_root__1FX_J line-clamp_active__Yb_HA\").string\n",
    "    nutrients = soup.find(\"table\", class_=\"product-info-nutrition_table__1PDio\").find(\"tbody\").find_all(\"tr\")\n",
    "    ingredienten = soup.find_all(\"p\", class_=\"typography_root__18FkK typography_variant-paragraph__33rgM typography_hasMargin__26L1z\")\n",
    "    script = soup.find_all(\"script\")\n",
    "    for s in script:\n",
    "        try:\n",
    "            json1 = re.search(r'window.__INITIAL_STATE__= ({.*})', s.string).string.replace(\"window.__INITIAL_STATE__= \", \"\")\n",
    "            json2 = json.loads(json1) \n",
    "        except:\n",
    "            next\n",
    "#     for s in script:\n",
    "#         print(json.loads(s.string))\n",
    "else: \n",
    "    print(response.status_code)"
   ]
  },
  {
   "cell_type": "code",
   "execution_count": 213,
   "id": "9e52510e-71d5-4f1c-8222-35e3859635ed",
   "metadata": {},
   "outputs": [
    {
     "name": "stdout",
     "output_type": "stream",
     "text": [
      "['Hazelnoot, Noten, Melk, Soja'] Lindt Excellence dark supreme noir 90%\n",
      "[{'Energie': '2483 kJ (592 kcal)'}, {'Vet': '55 g'}, {'waarvan verzadigd': '30 g'}, {'Koolhydraten': '14 g'}, {'waarvan suikers': '7 g'}, {'Eiwitten': '10 g'}, {'Zout': '0.03 g'}]\n",
      "[' cacaomassa', ' cacaoboter', ' magere cacaopoeder', ' suiker', ' vanille. Kan HAZELNOTEN en andere NOTEN', ' MELK', ' SOJA', ' bevatten.']\n"
     ]
    }
   ],
   "source": [
    "allergy_list = [allergy[i].string for i in range(len(allergy))]\n",
    "\n",
    "all_nutrients = []\n",
    "for item in nutrients:\n",
    "    n = item.find_all(\"td\")\n",
    "    nutrients_dict = {}\n",
    "    for i in range(0,len(n), 3):\n",
    "        nutrients_dict={n[i].string: n[i+1].string}\n",
    "        all_nutrients.append(nutrients_dict)\n",
    "        \n",
    "ingredients = []\n",
    "for i in ingredienten:\n",
    "    ing = i.find(\"span\")\n",
    "    if ing is not None:\n",
    "        all_ingredients = ing.text.split(\",\")\n",
    "        all_ingredients[0] = all_ingredients[0].replace(\"ingrediënten:\", \"\")\n",
    "\n",
    "print(allergy_list, description)        \n",
    "print(all_nutrients)\n",
    "print(all_ingredients)"
   ]
  },
  {
   "cell_type": "code",
   "execution_count": 7,
   "id": "c47c4e27-7600-40e2-9262-809c0cc44ed7",
   "metadata": {},
   "outputs": [],
   "source": [
    "json_all_products = []\n",
    "url_still_not_parsed = []\n",
    "for url in url_could_not_parse:\n",
    "    if url.startswith(\"/producten/product/w\"):\n",
    "        try:\n",
    "            product_info = appiepy.Product(url)\n",
    "            print(product_info)\n",
    "            json_product_info = json.loads(json.dumps(product_info.__dict__, indent=4, sort_keys=True))\n",
    "            json_all_products.append(json_product_info)\n",
    "        except:\n",
    "            url_still_not_parsed.append(url)\n",
    "        next\n",
    "                "
   ]
  },
  {
   "cell_type": "code",
   "execution_count": 6,
   "id": "cb338aea-9915-4cfd-bfb5-2bcf992e7b77",
   "metadata": {},
   "outputs": [
    {
     "data": {
      "text/plain": [
       "0"
      ]
     },
     "execution_count": 6,
     "metadata": {},
     "output_type": "execute_result"
    }
   ],
   "source": [
    "len(json_all_products)"
   ]
  },
  {
   "cell_type": "code",
   "execution_count": 8,
   "id": "44fa9537-18ae-428c-ab8b-86253f0dfa76",
   "metadata": {
    "tags": []
   },
   "outputs": [
    {
     "data": {
      "text/plain": [
       "['/producten/product/wi477771/koopmans-schudfles-pannenkoek-proteine',\n",
       " '/producten/product/wi1516/ah-magere-melk',\n",
       " '/producten/product/wi209828/arla-lactofree-halfvolle-melk-lactosevrij',\n",
       " '/producten/product/wi212525/arla-lactofree-halfvolle-yoghurt-lactosevrij',\n",
       " '/producten/product/wi225290/melkunie-breaker-high-protein-vanille',\n",
       " '/producten/product/wi121227/alpro-sojadrink-original-fresh',\n",
       " '/producten/product/wi407970/alpro-plantaardige-variatie-op-kwark-naturel',\n",
       " '/producten/product/wi474966/arla-lactofree-volle-melk',\n",
       " '/producten/product/wi213334/arla-lactofree-halfvolle-melk-lactosevrij',\n",
       " '/producten/product/wi437124/arla-lactofree-magere-kwark-lactosevrij',\n",
       " '/producten/product/wi474367/snickers-crisp-melkchocolade-ijs-6-stuks',\n",
       " '/producten/product/wi3579/calve-pindakaas-pot',\n",
       " '/producten/product/wi225290/melkunie-breaker-high-protein-vanille',\n",
       " '/producten/product/wi32847/calve-pindakaas-met-stukjes-pinda',\n",
       " '/producten/product/wi220739/calve-pindakaas-pot',\n",
       " '/producten/product/wi220740/calve-pindakaas-met-stukjes-pinda',\n",
       " '/producten/product/wi150888/calve-pindakaas-light',\n",
       " '/producten/product/wi232946/calve-pindakaas-pot',\n",
       " '/producten/product/wi162236/weetabix-original',\n",
       " '/producten/product/wi379003/calve-pindakaas-met-stukjes-pinda',\n",
       " '/producten/product/wi196598/lindt-85-cacao',\n",
       " '/producten/product/wi196597/lindt-excellence-orange-intense',\n",
       " '/producten/product/wi196599/lindt-excellence-70-cacao',\n",
       " '/producten/product/wi232897/lindt-excellence-dark-supreme-noir-90',\n",
       " '/producten/product/wi367082/lindt-excellence-caramel-salee',\n",
       " '/producten/product/wi435744/lindt-excellence-78',\n",
       " '/producten/product/wi474367/snickers-crisp-melkchocolade-ijs-6-stuks',\n",
       " '/producten/product/wi209828/arla-lactofree-halfvolle-melk-lactosevrij',\n",
       " '/producten/product/wi212525/arla-lactofree-halfvolle-yoghurt-lactosevrij',\n",
       " '/producten/product/wi121227/alpro-sojadrink-original-fresh',\n",
       " '/producten/product/wi407970/alpro-plantaardige-variatie-op-kwark-naturel',\n",
       " '/producten/product/wi474966/arla-lactofree-volle-melk',\n",
       " '/producten/product/wi213334/arla-lactofree-halfvolle-melk-lactosevrij',\n",
       " '/producten/product/wi485140/weight-care-high-protein-shake-vanilla',\n",
       " '/producten/product/wi484997/weight-care-high-protein-shake-iced-coffee']"
      ]
     },
     "execution_count": 8,
     "metadata": {},
     "output_type": "execute_result"
    }
   ],
   "source": [
    "url_still_not_parsed"
   ]
  },
  {
   "cell_type": "code",
   "execution_count": null,
   "id": "d487c1f8-ebab-4271-a0a1-127396b11124",
   "metadata": {
    "tags": []
   },
   "outputs": [],
   "source": [
    "all_products = []\n",
    "for product in json_all_products:\n",
    "    product_dict = {}\n",
    "    product_dict[\"allergy\"] = product.get(\"allergy\", \"no_info\")\n",
    "    product_dict[\"id\"] = product[\"id\"]\n",
    "    product_dict[\"brand\"] = product[\"brand\"]\n",
    "    product_dict[\"category\"] = product[\"category\"]\n",
    "    product_dict[\"description\"] = product[\"description\"]\n",
    "    if product.get(\"features\",\"no info\") != \"no info\":\n",
    "        product_dict[\"features\"] = [product[\"features\"][i][\"identifier\"] for i in range(len(product[\"features\"]))]\n",
    "    product_dict[\"image_url\"] = product[\"image_url\"]\n",
    "    product_dict[\"ingredients\"] = product.get(\"ingredients\",\"no info\")\n",
    "    product_dict[\"nutrition\"] = product.get(\"nutrition\",\"no info\")\n",
    "    product_dict[\"summary\"] = product[\"summary\"]\n",
    "    product_dict[\"unit_size\"] = product[\"unit_size\"]\n",
    "    product_dict[\"url\"] = product[\"url\"]\n",
    "    all_products.append(product_dict)"
   ]
  },
  {
   "cell_type": "code",
   "execution_count": null,
   "id": "6d909ad9-33e1-4eb8-80d7-6007113b2035",
   "metadata": {},
   "outputs": [],
   "source": [
    "products_df = pd.DataFrame(all_products)"
   ]
  },
  {
   "cell_type": "code",
   "execution_count": null,
   "id": "fcf0368c-eb2c-4973-988e-9ab6b53de31d",
   "metadata": {},
   "outputs": [],
   "source": [
    "products_df"
   ]
  },
  {
   "cell_type": "code",
   "execution_count": null,
   "id": "2f1842d1-6bad-4d42-a426-fce1e3271e3d",
   "metadata": {},
   "outputs": [],
   "source": [
    "with open(f'data/unparsed_urls.csv', 'a') as csvfile:\n",
    "    writer = csv.DictWriter(csvfile, fieldnames=all_products[0].keys())\n",
    "    writer.writeheader()\n",
    "    for product in all_products:\n",
    "          writer.writerow(product)"
   ]
  },
  {
   "cell_type": "code",
   "execution_count": null,
   "id": "199027ab-76a8-460c-a314-aab539151f27",
   "metadata": {},
   "outputs": [],
   "source": []
  },
  {
   "cell_type": "code",
   "execution_count": null,
   "id": "ed1670d0-3b91-4d72-ae5a-cf730688de90",
   "metadata": {},
   "outputs": [],
   "source": []
  }
 ],
 "metadata": {
  "kernelspec": {
   "display_name": "Python 3",
   "language": "python",
   "name": "python3"
  },
  "language_info": {
   "codemirror_mode": {
    "name": "ipython",
    "version": 3
   },
   "file_extension": ".py",
   "mimetype": "text/x-python",
   "name": "python",
   "nbconvert_exporter": "python",
   "pygments_lexer": "ipython3",
   "version": "3.8.6"
  }
 },
 "nbformat": 4,
 "nbformat_minor": 5
}
