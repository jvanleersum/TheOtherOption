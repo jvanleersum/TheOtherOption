{
 "cells": [
  {
   "cell_type": "code",
   "execution_count": 381,
   "id": "9713284c-b442-4f76-844b-71b203cbad58",
   "metadata": {},
   "outputs": [],
   "source": [
    "import pandas as pd\n",
    "import numpy as np\n",
    "import re"
   ]
  },
  {
   "cell_type": "code",
   "execution_count": 382,
   "id": "4af92098-52fa-4d7e-9bcb-4610baa52597",
   "metadata": {},
   "outputs": [
    {
     "name": "stderr",
     "output_type": "stream",
     "text": [
      "/Users/judithvanleersum/.pyenv/versions/lewagon/envs/TheOtherOption/lib/python3.8/site-packages/IPython/core/interactiveshell.py:3441: DtypeWarning: Columns (14,16,18,23,24,25,26,27,28,29,30,31,32,33,34,35,36,37,38,39,40,41,42,43,44,45,46,47,48,49,50,51,52,53,54,55,56,57,58,59,60,61,62,63,64,65,66,67,68,69,70,78,82,86,96,98,100,102,104,106,108,110,112,114,116,118,120,122,124,126,128,130,132,134,136,138,140,142,144,146,148,150,152,154,156,158,160,162,164,166,168,170,172,174,176,178,180,182,184,186,188,190,193,194,196,197,198,199,200,201,202,203,204,205,207,208,209,210,211,212,213,215,216,217,218,219,220,221,222,223,224,225,226,227,228,230,231,232,233,234,235,236,238,240,241,242,243,244,245,246,247,249,250,251,252,253,254,255,257,258,259,260,261,263,264,265,266,267,268,269,270,271,272,273,274,275,276,277,278,279,280,281,282,283,284,285,286,287,288,289,290,291,292,293,294,295,296,297,298,299,300,301,302,303,304,305,306,307,308,310,311,312,314,315,316) have mixed types.Specify dtype option on import or set low_memory=False.\n",
      "  exec(code_obj, self.user_global_ns, self.user_ns)\n"
     ]
    }
   ],
   "source": [
    "df = pd.read_csv(\"../TheOtherOption/data/all_products_ah_nutr_allergies_features.csv\")"
   ]
  },
  {
   "cell_type": "code",
   "execution_count": 383,
   "id": "f3981c80-87be-49af-a08a-599973262eb8",
   "metadata": {
    "tags": []
   },
   "outputs": [
    {
     "data": {
      "text/plain": [
       "{'aardappel',\n",
       " 'aperitieven',\n",
       " 'baby',\n",
       " 'bakkerij',\n",
       " 'banket',\n",
       " 'bewuste voeding',\n",
       " 'bier',\n",
       " 'broodbeleg',\n",
       " 'bubbels',\n",
       " 'chips',\n",
       " 'chocolade',\n",
       " 'diepvries',\n",
       " 'eieren',\n",
       " 'erwten',\n",
       " 'frisdrank',\n",
       " 'fruit',\n",
       " 'gall&gall',\n",
       " 'groente',\n",
       " 'huisdier',\n",
       " 'huishouden',\n",
       " 'hygiëne',\n",
       " 'kaas',\n",
       " 'kip',\n",
       " 'koek',\n",
       " 'koffie',\n",
       " 'koken',\n",
       " 'kruiden',\n",
       " 'maaltijden',\n",
       " 'olie',\n",
       " 'ontbijtgranen',\n",
       " 'pasta',\n",
       " 'pizza',\n",
       " 'plantaardig',\n",
       " 'rijst',\n",
       " 'salades',\n",
       " 'sappen',\n",
       " 'sauzen',\n",
       " 'snoep',\n",
       " 'soepen',\n",
       " 'sterke drank',\n",
       " 'suikerbewust',\n",
       " 'tafelen',\n",
       " 'tapas',\n",
       " 'thee',\n",
       " 'tussendoor',\n",
       " 'vega',\n",
       " 'verzorging',\n",
       " 'vis',\n",
       " 'vlees',\n",
       " 'vleeswaren',\n",
       " 'vrije tijd',\n",
       " 'wereldkeuken',\n",
       " 'wijn',\n",
       " 'wijn specials (feestdagen)',\n",
       " 'zuivel'}"
      ]
     },
     "execution_count": 383,
     "metadata": {},
     "output_type": "execute_result"
    }
   ],
   "source": [
    "all_categories = []\n",
    "for ind, category in df[\"category\"].items():\n",
    "    key_category = []\n",
    "    pattern = r'(\\D+)\\/\\D+'\n",
    "    main_category = re.findall(pattern, category)\n",
    "    if main_category == []:\n",
    "        category_list = [category.replace(\".\", \"\").strip()]\n",
    "    else:\n",
    "        main_category[0] = main_category[0].replace(\" en \", \", \")\n",
    "        category_list = main_category[0].split(\", \")\n",
    "    for cat in category_list:\n",
    "        all_categories.append(cat.lower())\n",
    "        df.loc[ind, cat.lower()] = \"category\"\n",
    "all_categories = set(all_categories)\n",
    "all_categories"
   ]
  },
  {
   "cell_type": "code",
   "execution_count": 384,
   "id": "4c5a476c-ccc0-4f9c-93b9-27686e767c8a",
   "metadata": {},
   "outputs": [],
   "source": [
    "categories_df = pd.DataFrame(all_categories)\n",
    "categories_df.to_csv(\"../TheOtherOption/data/categories_list.csv\", index=False)"
   ]
  },
  {
   "cell_type": "code",
   "execution_count": 385,
   "id": "71a8bed8-b6b0-41e4-a54a-e8a16c2dd60a",
   "metadata": {
    "tags": []
   },
   "outputs": [
    {
     "data": {
      "text/html": [
       "<div>\n",
       "<style scoped>\n",
       "    .dataframe tbody tr th:only-of-type {\n",
       "        vertical-align: middle;\n",
       "    }\n",
       "\n",
       "    .dataframe tbody tr th {\n",
       "        vertical-align: top;\n",
       "    }\n",
       "\n",
       "    .dataframe thead th {\n",
       "        text-align: right;\n",
       "    }\n",
       "</style>\n",
       "<table border=\"1\" class=\"dataframe\">\n",
       "  <thead>\n",
       "    <tr style=\"text-align: right;\">\n",
       "      <th></th>\n",
       "      <th>category</th>\n",
       "      <th>wijn</th>\n",
       "      <th>bubbels</th>\n",
       "      <th>groente</th>\n",
       "    </tr>\n",
       "  </thead>\n",
       "  <tbody>\n",
       "    <tr>\n",
       "      <th>0</th>\n",
       "      <td>Aardappel, groente, fruit/Komkommer (vers)</td>\n",
       "      <td>NaN</td>\n",
       "      <td>NaN</td>\n",
       "      <td>category</td>\n",
       "    </tr>\n",
       "    <tr>\n",
       "      <th>1</th>\n",
       "      <td>Aardappel, groente, fruit/Bananen</td>\n",
       "      <td>NaN</td>\n",
       "      <td>NaN</td>\n",
       "      <td>category</td>\n",
       "    </tr>\n",
       "    <tr>\n",
       "      <th>2</th>\n",
       "      <td>Aardappel, groente, fruit/Courgette (vers)</td>\n",
       "      <td>NaN</td>\n",
       "      <td>NaN</td>\n",
       "      <td>category</td>\n",
       "    </tr>\n",
       "    <tr>\n",
       "      <th>3</th>\n",
       "      <td>Aardappel, groente, fruit/Paprika mix (vers)</td>\n",
       "      <td>NaN</td>\n",
       "      <td>NaN</td>\n",
       "      <td>category</td>\n",
       "    </tr>\n",
       "    <tr>\n",
       "      <th>4</th>\n",
       "      <td>Aardappel, groente, fruit/Broccoli (vers)</td>\n",
       "      <td>NaN</td>\n",
       "      <td>NaN</td>\n",
       "      <td>category</td>\n",
       "    </tr>\n",
       "    <tr>\n",
       "      <th>...</th>\n",
       "      <td>...</td>\n",
       "      <td>...</td>\n",
       "      <td>...</td>\n",
       "      <td>...</td>\n",
       "    </tr>\n",
       "    <tr>\n",
       "      <th>10878</th>\n",
       "      <td>Wijn en bubbels/Cabernet Sauvignon (Zuid-Afrika)</td>\n",
       "      <td>category</td>\n",
       "      <td>category</td>\n",
       "      <td>NaN</td>\n",
       "    </tr>\n",
       "    <tr>\n",
       "      <th>10879</th>\n",
       "      <td>Wijn en bubbels/Champagne</td>\n",
       "      <td>category</td>\n",
       "      <td>category</td>\n",
       "      <td>NaN</td>\n",
       "    </tr>\n",
       "    <tr>\n",
       "      <th>10880</th>\n",
       "      <td>Wijn en bubbels/Grenache, Garnacha (Frankrijk)</td>\n",
       "      <td>category</td>\n",
       "      <td>category</td>\n",
       "      <td>NaN</td>\n",
       "    </tr>\n",
       "    <tr>\n",
       "      <th>10881</th>\n",
       "      <td>Wijn en bubbels/Cabernet Franc (Frankrijk)</td>\n",
       "      <td>category</td>\n",
       "      <td>category</td>\n",
       "      <td>NaN</td>\n",
       "    </tr>\n",
       "    <tr>\n",
       "      <th>10882</th>\n",
       "      <td>Wijn en bubbels/Corvina (Italië)</td>\n",
       "      <td>category</td>\n",
       "      <td>category</td>\n",
       "      <td>NaN</td>\n",
       "    </tr>\n",
       "  </tbody>\n",
       "</table>\n",
       "<p>10883 rows × 4 columns</p>\n",
       "</div>"
      ],
      "text/plain": [
       "                                               category      wijn   bubbels  \\\n",
       "0            Aardappel, groente, fruit/Komkommer (vers)       NaN       NaN   \n",
       "1                     Aardappel, groente, fruit/Bananen       NaN       NaN   \n",
       "2            Aardappel, groente, fruit/Courgette (vers)       NaN       NaN   \n",
       "3          Aardappel, groente, fruit/Paprika mix (vers)       NaN       NaN   \n",
       "4             Aardappel, groente, fruit/Broccoli (vers)       NaN       NaN   \n",
       "...                                                 ...       ...       ...   \n",
       "10878  Wijn en bubbels/Cabernet Sauvignon (Zuid-Afrika)  category  category   \n",
       "10879                         Wijn en bubbels/Champagne  category  category   \n",
       "10880    Wijn en bubbels/Grenache, Garnacha (Frankrijk)  category  category   \n",
       "10881        Wijn en bubbels/Cabernet Franc (Frankrijk)  category  category   \n",
       "10882                  Wijn en bubbels/Corvina (Italië)  category  category   \n",
       "\n",
       "        groente  \n",
       "0      category  \n",
       "1      category  \n",
       "2      category  \n",
       "3      category  \n",
       "4      category  \n",
       "...         ...  \n",
       "10878       NaN  \n",
       "10879       NaN  \n",
       "10880       NaN  \n",
       "10881       NaN  \n",
       "10882       NaN  \n",
       "\n",
       "[10883 rows x 4 columns]"
      ]
     },
     "execution_count": 385,
     "metadata": {},
     "output_type": "execute_result"
    }
   ],
   "source": [
    "df[[\"category\", \"wijn\", \"bubbels\", \"groente\"]]"
   ]
  },
  {
   "cell_type": "code",
   "execution_count": 386,
   "id": "fefe2388-d653-4150-becc-40b2daf0b933",
   "metadata": {},
   "outputs": [],
   "source": [
    "df.to_csv(\"../TheOtherOption/data/all_products_ah_nutr_allergies_features_cat.csv\", index=False)"
   ]
  },
  {
   "cell_type": "code",
   "execution_count": null,
   "id": "ed8e46b1-5b04-419a-a72e-13e2c4783437",
   "metadata": {},
   "outputs": [],
   "source": []
  }
 ],
 "metadata": {
  "kernelspec": {
   "display_name": "Python 3 (ipykernel)",
   "language": "python",
   "name": "python3"
  },
  "language_info": {
   "codemirror_mode": {
    "name": "ipython",
    "version": 3
   },
   "file_extension": ".py",
   "mimetype": "text/x-python",
   "name": "python",
   "nbconvert_exporter": "python",
   "pygments_lexer": "ipython3",
   "version": "3.8.6"
  }
 },
 "nbformat": 4,
 "nbformat_minor": 5
}
